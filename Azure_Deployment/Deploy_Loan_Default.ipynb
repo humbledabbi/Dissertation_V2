{
  "cells": [
    {
      "cell_type": "code",
      "source": [
        "import sys\n",
        "!{sys.executable} -m pip install --upgrade joblib"
      ],
      "outputs": [
        {
          "output_type": "stream",
          "name": "stdout",
          "text": "Collecting joblib\n  Downloading joblib-1.5.2-py3-none-any.whl.metadata (5.6 kB)\nDownloading joblib-1.5.2-py3-none-any.whl (308 kB)\nInstalling collected packages: joblib\nSuccessfully installed joblib-1.5.2\n"
        }
      ],
      "execution_count": 1,
      "metadata": {
        "gather": {
          "logged": 1756540283114
        }
      }
    },
    {
      "cell_type": "code",
      "source": [
        "import os\n",
        "os.makedirs('code', exist_ok=True)"
      ],
      "outputs": [],
      "execution_count": 2,
      "metadata": {
        "gather": {
          "logged": 1756540319180
        }
      }
    },
    {
      "cell_type": "code",
      "source": [
        "%%writefile code/score.py\n",
        "import os\n",
        "import torch\n",
        "import torch.nn as nn\n",
        "import joblib\n",
        "import numpy as np\n",
        "import json\n",
        "\n",
        "# Features in the same order as training\n",
        "FEATURE_ORDER = [\n",
        "    \"all_util\", \"open_acc_6m\", \"open_rv_12m\", \"il_util\",\n",
        "    \"delinq_2yrs\", \"acc_now_delinq\", \"total_bal_il\",\n",
        "    \"last_fico_range_low\", \"last_fico_range_high\", \"loan_amnt\"\n",
        "]\n",
        "\n",
        "class ANNModule(nn.Module):\n",
        "    def __init__(self, input_dim=10, hidden_layers=[128, 64, 32], dropout=0.3):\n",
        "        super().__init__()\n",
        "        layers = []\n",
        "        prev_dim = input_dim\n",
        "        for h in hidden_layers:\n",
        "            layers.append(nn.Linear(prev_dim, h))\n",
        "            layers.append(nn.ReLU())\n",
        "            layers.append(nn.Dropout(dropout))\n",
        "            prev_dim = h\n",
        "        layers.append(nn.Linear(prev_dim, 1))\n",
        "        self.network = nn.Sequential(*layers)\n",
        "\n",
        "    def forward(self, x):\n",
        "        return self.network(x).view(-1)\n",
        "\n",
        "\n",
        "def init():\n",
        "    global model, scaler, device\n",
        "    device = torch.device(\"cuda\" if torch.cuda.is_available() else \"cpu\")\n",
        "\n",
        "    model_dir = os.environ.get(\"AZUREML_MODEL_DIR\", \"./model\")\n",
        "    model_path = os.path.join(model_dir, \"model\", \"best_ann_model.pth\")\n",
        "    scaler_path = os.path.join(model_dir, \"model\", \"scaler.pkl\")\n",
        "\n",
        "    # Load scaler\n",
        "    scaler = joblib.load(scaler_path)\n",
        "\n",
        "    # Load model\n",
        "    model = ANNModule()\n",
        "    model.load_state_dict(torch.load(model_path, map_location=device))\n",
        "    model.to(device)\n",
        "    model.eval()\n",
        "\n",
        "\n",
        "def run(raw_data):\n",
        "    import logging\n",
        "    logger = logging.getLogger(__name__)\n",
        "    \n",
        "    try:\n",
        "        # If Azure sends raw JSON string, parse it\n",
        "        if isinstance(raw_data, str):\n",
        "            raw_data = json.loads(raw_data)\n",
        "\n",
        "        logger.info(f\"Received data: {raw_data}\")\n",
        "\n",
        "        # If it's a dict with \"data\" key, extract\n",
        "        if isinstance(raw_data, dict) and \"data\" in raw_data:\n",
        "            raw_data = raw_data[\"data\"]\n",
        "\n",
        "        # Now raw_data should be a list of dicts\n",
        "        data_list = []\n",
        "        for d in raw_data:\n",
        "            if not isinstance(d, dict):\n",
        "                raise ValueError(f\"Expected dict, got {type(d)}: {d}\")\n",
        "            row = [d.get(feat, None) for feat in FEATURE_ORDER]\n",
        "            if None in row:\n",
        "                missing = [FEATURE_ORDER[i] for i, v in enumerate(row) if v is None]\n",
        "                raise ValueError(f\"Missing features: {missing}\")\n",
        "            data_list.append(row)\n",
        "\n",
        "        # Convert to numpy array, scale, and run model\n",
        "        data = np.array(data_list, dtype=np.float32)\n",
        "        data_scaled = scaler.transform(data)\n",
        "        inputs = torch.tensor(data_scaled, dtype=torch.float32).to(device)\n",
        "\n",
        "        with torch.no_grad():\n",
        "            logits = model(inputs)\n",
        "            probs = torch.sigmoid(logits)\n",
        "            preds = (probs > 0.5).int()\n",
        "\n",
        "        logger.info(f\"Predictions: {preds.cpu().numpy()}\")\n",
        "        return {\n",
        "            \"predictions\": preds.cpu().numpy().tolist(),\n",
        "            \"probabilities\": probs.cpu().numpy().tolist()\n",
        "        }\n",
        "\n",
        "    except Exception as e:\n",
        "        logger.error(f\"Exception in run: {type(e)}: {e}\", exc_info=True)\n",
        "        return {\"error\": f\"{type(e)}: {e}\"}"
      ],
      "outputs": [
        {
          "output_type": "stream",
          "name": "stdout",
          "text": "Overwriting code/score.py\n"
        }
      ],
      "execution_count": 18,
      "metadata": {
        "gather": {
          "logged": 1756481941703
        }
      }
    },
    {
      "cell_type": "code",
      "source": [
        "import sys\n",
        "!{sys.executable} -m pip install --upgrade azure-ai-ml azure-identity pandas numpy torch"
      ],
      "outputs": [
        {
          "output_type": "stream",
          "name": "stdout",
          "text": "Requirement already satisfied: azure-ai-ml in /anaconda/envs/azureml_py310_sdkv2/lib/python3.10/site-packages (1.28.1)\nRequirement already satisfied: azure-identity in /anaconda/envs/azureml_py310_sdkv2/lib/python3.10/site-packages (1.23.0)\nCollecting azure-identity\n  Using cached azure_identity-1.24.0-py3-none-any.whl.metadata (86 kB)\nRequirement already satisfied: pandas in /anaconda/envs/azureml_py310_sdkv2/lib/python3.10/site-packages (1.5.3)\nCollecting pandas\n  Downloading pandas-2.3.2-cp310-cp310-manylinux_2_17_x86_64.manylinux2014_x86_64.whl.metadata (91 kB)\nRequirement already satisfied: numpy in /anaconda/envs/azureml_py310_sdkv2/lib/python3.10/site-packages (1.23.5)\nCollecting numpy\n  Downloading numpy-2.2.6-cp310-cp310-manylinux_2_17_x86_64.manylinux2014_x86_64.whl.metadata (62 kB)\nCollecting torch\n  Downloading torch-2.8.0-cp310-cp310-manylinux_2_28_x86_64.whl.metadata (30 kB)\nRequirement already satisfied: pyyaml<7.0.0,>=5.1.0 in /anaconda/envs/azureml_py310_sdkv2/lib/python3.10/site-packages (from azure-ai-ml) (6.0.2)\nRequirement already satisfied: msrest<1.0.0,>=0.6.18 in /anaconda/envs/azureml_py310_sdkv2/lib/python3.10/site-packages (from azure-ai-ml) (0.7.1)\nRequirement already satisfied: azure-core>=1.23.0 in /anaconda/envs/azureml_py310_sdkv2/lib/python3.10/site-packages (from azure-ai-ml) (1.35.0)\nRequirement already satisfied: azure-mgmt-core>=1.3.0 in /anaconda/envs/azureml_py310_sdkv2/lib/python3.10/site-packages (from azure-ai-ml) (1.6.0)\nRequirement already satisfied: marshmallow<4.0.0,>=3.5 in /anaconda/envs/azureml_py310_sdkv2/lib/python3.10/site-packages (from azure-ai-ml) (3.26.1)\nRequirement already satisfied: jsonschema<5.0.0,>=4.0.0 in /anaconda/envs/azureml_py310_sdkv2/lib/python3.10/site-packages (from azure-ai-ml) (4.24.0)\nRequirement already satisfied: tqdm<5.0.0 in /anaconda/envs/azureml_py310_sdkv2/lib/python3.10/site-packages (from azure-ai-ml) (4.67.1)\nRequirement already satisfied: strictyaml<2.0.0 in /anaconda/envs/azureml_py310_sdkv2/lib/python3.10/site-packages (from azure-ai-ml) (1.7.3)\nRequirement already satisfied: colorama<1.0.0 in /anaconda/envs/azureml_py310_sdkv2/lib/python3.10/site-packages (from azure-ai-ml) (0.4.6)\nRequirement already satisfied: pyjwt<3.0.0 in /anaconda/envs/azureml_py310_sdkv2/lib/python3.10/site-packages (from azure-ai-ml) (2.10.1)\nRequirement already satisfied: azure-storage-blob>=12.10.0 in /anaconda/envs/azureml_py310_sdkv2/lib/python3.10/site-packages (from azure-ai-ml) (12.25.1)\nRequirement already satisfied: azure-storage-file-share in /anaconda/envs/azureml_py310_sdkv2/lib/python3.10/site-packages (from azure-ai-ml) (12.21.0)\nRequirement already satisfied: azure-storage-file-datalake>=12.2.0 in /anaconda/envs/azureml_py310_sdkv2/lib/python3.10/site-packages (from azure-ai-ml) (12.20.0)\nRequirement already satisfied: pydash<9.0.0,>=6.0.0 in /anaconda/envs/azureml_py310_sdkv2/lib/python3.10/site-packages (from azure-ai-ml) (8.0.5)\nRequirement already satisfied: isodate<1.0.0 in /anaconda/envs/azureml_py310_sdkv2/lib/python3.10/site-packages (from azure-ai-ml) (0.7.2)\nRequirement already satisfied: azure-common>=1.1 in /anaconda/envs/azureml_py310_sdkv2/lib/python3.10/site-packages (from azure-ai-ml) (1.1.28)\nRequirement already satisfied: typing-extensions<5.0.0 in /anaconda/envs/azureml_py310_sdkv2/lib/python3.10/site-packages (from azure-ai-ml) (4.14.1)\nRequirement already satisfied: azure-monitor-opentelemetry in /anaconda/envs/azureml_py310_sdkv2/lib/python3.10/site-packages (from azure-ai-ml) (1.6.10)\nRequirement already satisfied: six>=1.11.0 in /anaconda/envs/azureml_py310_sdkv2/lib/python3.10/site-packages (from azure-ai-ml) (1.17.0)\nRequirement already satisfied: attrs>=22.2.0 in /anaconda/envs/azureml_py310_sdkv2/lib/python3.10/site-packages (from jsonschema<5.0.0,>=4.0.0->azure-ai-ml) (25.3.0)\nRequirement already satisfied: jsonschema-specifications>=2023.03.6 in /anaconda/envs/azureml_py310_sdkv2/lib/python3.10/site-packages (from jsonschema<5.0.0,>=4.0.0->azure-ai-ml) (2025.4.1)\nRequirement already satisfied: referencing>=0.28.4 in /anaconda/envs/azureml_py310_sdkv2/lib/python3.10/site-packages (from jsonschema<5.0.0,>=4.0.0->azure-ai-ml) (0.36.2)\nRequirement already satisfied: rpds-py>=0.7.1 in /anaconda/envs/azureml_py310_sdkv2/lib/python3.10/site-packages (from jsonschema<5.0.0,>=4.0.0->azure-ai-ml) (0.26.0)\nRequirement already satisfied: packaging>=17.0 in /anaconda/envs/azureml_py310_sdkv2/lib/python3.10/site-packages (from marshmallow<4.0.0,>=3.5->azure-ai-ml) (25.0)\nRequirement already satisfied: certifi>=2017.4.17 in /anaconda/envs/azureml_py310_sdkv2/lib/python3.10/site-packages (from msrest<1.0.0,>=0.6.18->azure-ai-ml) (2025.7.9)\nRequirement already satisfied: requests-oauthlib>=0.5.0 in /anaconda/envs/azureml_py310_sdkv2/lib/python3.10/site-packages (from msrest<1.0.0,>=0.6.18->azure-ai-ml) (2.0.0)\nRequirement already satisfied: requests~=2.16 in /anaconda/envs/azureml_py310_sdkv2/lib/python3.10/site-packages (from msrest<1.0.0,>=0.6.18->azure-ai-ml) (2.32.4)\nRequirement already satisfied: charset_normalizer<4,>=2 in /anaconda/envs/azureml_py310_sdkv2/lib/python3.10/site-packages (from requests~=2.16->msrest<1.0.0,>=0.6.18->azure-ai-ml) (3.4.2)\nRequirement already satisfied: idna<4,>=2.5 in /anaconda/envs/azureml_py310_sdkv2/lib/python3.10/site-packages (from requests~=2.16->msrest<1.0.0,>=0.6.18->azure-ai-ml) (3.10)\nRequirement already satisfied: urllib3<3,>=1.21.1 in /anaconda/envs/azureml_py310_sdkv2/lib/python3.10/site-packages (from requests~=2.16->msrest<1.0.0,>=0.6.18->azure-ai-ml) (2.5.0)\nRequirement already satisfied: python-dateutil>=2.6.0 in /anaconda/envs/azureml_py310_sdkv2/lib/python3.10/site-packages (from strictyaml<2.0.0->azure-ai-ml) (2.9.0.post0)\nRequirement already satisfied: cryptography>=2.5 in /anaconda/envs/azureml_py310_sdkv2/lib/python3.10/site-packages (from azure-identity) (45.0.5)\nRequirement already satisfied: msal>=1.30.0 in /anaconda/envs/azureml_py310_sdkv2/lib/python3.10/site-packages (from azure-identity) (1.32.3)\nRequirement already satisfied: msal-extensions>=1.2.0 in /anaconda/envs/azureml_py310_sdkv2/lib/python3.10/site-packages (from azure-identity) (1.3.1)\nRequirement already satisfied: pytz>=2020.1 in /anaconda/envs/azureml_py310_sdkv2/lib/python3.10/site-packages (from pandas) (2025.2)\nRequirement already satisfied: tzdata>=2022.7 in /anaconda/envs/azureml_py310_sdkv2/lib/python3.10/site-packages (from pandas) (2025.2)\nRequirement already satisfied: filelock in /anaconda/envs/azureml_py310_sdkv2/lib/python3.10/site-packages (from torch) (3.18.0)\nCollecting sympy>=1.13.3 (from torch)\n  Downloading sympy-1.14.0-py3-none-any.whl.metadata (12 kB)\nRequirement already satisfied: networkx in /anaconda/envs/azureml_py310_sdkv2/lib/python3.10/site-packages (from torch) (3.4.2)\nRequirement already satisfied: jinja2 in /anaconda/envs/azureml_py310_sdkv2/lib/python3.10/site-packages (from torch) (3.1.6)\nRequirement already satisfied: fsspec in /anaconda/envs/azureml_py310_sdkv2/lib/python3.10/site-packages (from torch) (2023.10.0)\nCollecting nvidia-cuda-nvrtc-cu12==12.8.93 (from torch)\n  Downloading nvidia_cuda_nvrtc_cu12-12.8.93-py3-none-manylinux2010_x86_64.manylinux_2_12_x86_64.whl.metadata (1.7 kB)\nCollecting nvidia-cuda-runtime-cu12==12.8.90 (from torch)\n  Downloading nvidia_cuda_runtime_cu12-12.8.90-py3-none-manylinux2014_x86_64.manylinux_2_17_x86_64.whl.metadata (1.7 kB)\nCollecting nvidia-cuda-cupti-cu12==12.8.90 (from torch)\n  Downloading nvidia_cuda_cupti_cu12-12.8.90-py3-none-manylinux2014_x86_64.manylinux_2_17_x86_64.whl.metadata (1.7 kB)\nCollecting nvidia-cudnn-cu12==9.10.2.21 (from torch)\n  Downloading nvidia_cudnn_cu12-9.10.2.21-py3-none-manylinux_2_27_x86_64.whl.metadata (1.8 kB)\nCollecting nvidia-cublas-cu12==12.8.4.1 (from torch)\n  Downloading nvidia_cublas_cu12-12.8.4.1-py3-none-manylinux_2_27_x86_64.whl.metadata (1.7 kB)\nCollecting nvidia-cufft-cu12==11.3.3.83 (from torch)\n  Downloading nvidia_cufft_cu12-11.3.3.83-py3-none-manylinux2014_x86_64.manylinux_2_17_x86_64.whl.metadata (1.7 kB)\nCollecting nvidia-curand-cu12==10.3.9.90 (from torch)\n  Downloading nvidia_curand_cu12-10.3.9.90-py3-none-manylinux_2_27_x86_64.whl.metadata (1.7 kB)\nCollecting nvidia-cusolver-cu12==11.7.3.90 (from torch)\n  Downloading nvidia_cusolver_cu12-11.7.3.90-py3-none-manylinux_2_27_x86_64.whl.metadata (1.8 kB)\nCollecting nvidia-cusparse-cu12==12.5.8.93 (from torch)\n  Downloading nvidia_cusparse_cu12-12.5.8.93-py3-none-manylinux2014_x86_64.manylinux_2_17_x86_64.whl.metadata (1.8 kB)\nCollecting nvidia-cusparselt-cu12==0.7.1 (from torch)\n  Downloading nvidia_cusparselt_cu12-0.7.1-py3-none-manylinux2014_x86_64.whl.metadata (7.0 kB)\nCollecting nvidia-nccl-cu12==2.27.3 (from torch)\n  Downloading nvidia_nccl_cu12-2.27.3-py3-none-manylinux2014_x86_64.manylinux_2_17_x86_64.whl.metadata (2.0 kB)\nCollecting nvidia-nvtx-cu12==12.8.90 (from torch)\n  Downloading nvidia_nvtx_cu12-12.8.90-py3-none-manylinux2014_x86_64.manylinux_2_17_x86_64.whl.metadata (1.8 kB)\nCollecting nvidia-nvjitlink-cu12==12.8.93 (from torch)\n  Downloading nvidia_nvjitlink_cu12-12.8.93-py3-none-manylinux2010_x86_64.manylinux_2_12_x86_64.whl.metadata (1.7 kB)\nCollecting nvidia-cufile-cu12==1.13.1.3 (from torch)\n  Downloading nvidia_cufile_cu12-1.13.1.3-py3-none-manylinux2014_x86_64.manylinux_2_17_x86_64.whl.metadata (1.7 kB)\nCollecting triton==3.4.0 (from torch)\n  Downloading triton-3.4.0-cp310-cp310-manylinux_2_27_x86_64.manylinux_2_28_x86_64.whl.metadata (1.7 kB)\nRequirement already satisfied: setuptools>=40.8.0 in /anaconda/envs/azureml_py310_sdkv2/lib/python3.10/site-packages (from triton==3.4.0->torch) (78.1.1)\nRequirement already satisfied: cffi>=1.14 in /anaconda/envs/azureml_py310_sdkv2/lib/python3.10/site-packages (from cryptography>=2.5->azure-identity) (1.17.1)\nRequirement already satisfied: pycparser in /anaconda/envs/azureml_py310_sdkv2/lib/python3.10/site-packages (from cffi>=1.14->cryptography>=2.5->azure-identity) (2.22)\nRequirement already satisfied: oauthlib>=3.0.0 in /anaconda/envs/azureml_py310_sdkv2/lib/python3.10/site-packages (from requests-oauthlib>=0.5.0->msrest<1.0.0,>=0.6.18->azure-ai-ml) (3.3.1)\nCollecting mpmath<1.4,>=1.1.0 (from sympy>=1.13.3->torch)\n  Downloading mpmath-1.3.0-py3-none-any.whl.metadata (8.6 kB)\nRequirement already satisfied: azure-core-tracing-opentelemetry~=1.0.0b11 in /anaconda/envs/azureml_py310_sdkv2/lib/python3.10/site-packages (from azure-monitor-opentelemetry->azure-ai-ml) (1.0.0b12)\nRequirement already satisfied: azure-monitor-opentelemetry-exporter~=1.0.0b31 in /anaconda/envs/azureml_py310_sdkv2/lib/python3.10/site-packages (from azure-monitor-opentelemetry->azure-ai-ml) (1.0.0b39)\nRequirement already satisfied: opentelemetry-instrumentation-django<0.53b0,>=0.49b0 in /anaconda/envs/azureml_py310_sdkv2/lib/python3.10/site-packages (from azure-monitor-opentelemetry->azure-ai-ml) (0.52b1)\nRequirement already satisfied: opentelemetry-instrumentation-fastapi<0.53b0,>=0.49b0 in /anaconda/envs/azureml_py310_sdkv2/lib/python3.10/site-packages (from azure-monitor-opentelemetry->azure-ai-ml) (0.52b1)\nRequirement already satisfied: opentelemetry-instrumentation-flask<0.53b0,>=0.49b0 in /anaconda/envs/azureml_py310_sdkv2/lib/python3.10/site-packages (from azure-monitor-opentelemetry->azure-ai-ml) (0.52b1)\nRequirement already satisfied: opentelemetry-instrumentation-psycopg2<0.53b0,>=0.49b0 in /anaconda/envs/azureml_py310_sdkv2/lib/python3.10/site-packages (from azure-monitor-opentelemetry->azure-ai-ml) (0.52b1)\nRequirement already satisfied: opentelemetry-instrumentation-requests<0.53b0,>=0.49b0 in /anaconda/envs/azureml_py310_sdkv2/lib/python3.10/site-packages (from azure-monitor-opentelemetry->azure-ai-ml) (0.52b1)\nRequirement already satisfied: opentelemetry-instrumentation-urllib<0.53b0,>=0.49b0 in /anaconda/envs/azureml_py310_sdkv2/lib/python3.10/site-packages (from azure-monitor-opentelemetry->azure-ai-ml) (0.52b1)\nRequirement already satisfied: opentelemetry-instrumentation-urllib3<0.53b0,>=0.49b0 in /anaconda/envs/azureml_py310_sdkv2/lib/python3.10/site-packages (from azure-monitor-opentelemetry->azure-ai-ml) (0.52b1)\nRequirement already satisfied: opentelemetry-resource-detector-azure~=0.1.4 in /anaconda/envs/azureml_py310_sdkv2/lib/python3.10/site-packages (from azure-monitor-opentelemetry->azure-ai-ml) (0.1.5)\nRequirement already satisfied: opentelemetry-sdk<1.32,>=1.28.0 in /anaconda/envs/azureml_py310_sdkv2/lib/python3.10/site-packages (from azure-monitor-opentelemetry->azure-ai-ml) (1.31.1)\nRequirement already satisfied: opentelemetry-api>=1.12.0 in /anaconda/envs/azureml_py310_sdkv2/lib/python3.10/site-packages (from azure-core-tracing-opentelemetry~=1.0.0b11->azure-monitor-opentelemetry->azure-ai-ml) (1.35.0)\nRequirement already satisfied: fixedint==0.1.6 in /anaconda/envs/azureml_py310_sdkv2/lib/python3.10/site-packages (from azure-monitor-opentelemetry-exporter~=1.0.0b31->azure-monitor-opentelemetry->azure-ai-ml) (0.1.6)\nRequirement already satisfied: psutil<8,>=5.9 in /anaconda/envs/azureml_py310_sdkv2/lib/python3.10/site-packages (from azure-monitor-opentelemetry-exporter~=1.0.0b31->azure-monitor-opentelemetry->azure-ai-ml) (5.9.1)\nRequirement already satisfied: importlib-metadata<8.8.0,>=6.0 in /anaconda/envs/azureml_py310_sdkv2/lib/python3.10/site-packages (from opentelemetry-api>=1.12.0->azure-core-tracing-opentelemetry~=1.0.0b11->azure-monitor-opentelemetry->azure-ai-ml) (8.7.0)\nRequirement already satisfied: zipp>=3.20 in /anaconda/envs/azureml_py310_sdkv2/lib/python3.10/site-packages (from importlib-metadata<8.8.0,>=6.0->opentelemetry-api>=1.12.0->azure-core-tracing-opentelemetry~=1.0.0b11->azure-monitor-opentelemetry->azure-ai-ml) (3.23.0)\nRequirement already satisfied: opentelemetry-instrumentation-wsgi==0.52b1 in /anaconda/envs/azureml_py310_sdkv2/lib/python3.10/site-packages (from opentelemetry-instrumentation-django<0.53b0,>=0.49b0->azure-monitor-opentelemetry->azure-ai-ml) (0.52b1)\nRequirement already satisfied: opentelemetry-instrumentation==0.52b1 in /anaconda/envs/azureml_py310_sdkv2/lib/python3.10/site-packages (from opentelemetry-instrumentation-django<0.53b0,>=0.49b0->azure-monitor-opentelemetry->azure-ai-ml) (0.52b1)\nRequirement already satisfied: opentelemetry-semantic-conventions==0.52b1 in /anaconda/envs/azureml_py310_sdkv2/lib/python3.10/site-packages (from opentelemetry-instrumentation-django<0.53b0,>=0.49b0->azure-monitor-opentelemetry->azure-ai-ml) (0.52b1)\nRequirement already satisfied: opentelemetry-util-http==0.52b1 in /anaconda/envs/azureml_py310_sdkv2/lib/python3.10/site-packages (from opentelemetry-instrumentation-django<0.53b0,>=0.49b0->azure-monitor-opentelemetry->azure-ai-ml) (0.52b1)\nRequirement already satisfied: wrapt<2.0.0,>=1.0.0 in /anaconda/envs/azureml_py310_sdkv2/lib/python3.10/site-packages (from opentelemetry-instrumentation==0.52b1->opentelemetry-instrumentation-django<0.53b0,>=0.49b0->azure-monitor-opentelemetry->azure-ai-ml) (1.17.2)\nRequirement already satisfied: deprecated>=1.2.6 in /anaconda/envs/azureml_py310_sdkv2/lib/python3.10/site-packages (from opentelemetry-semantic-conventions==0.52b1->opentelemetry-instrumentation-django<0.53b0,>=0.49b0->azure-monitor-opentelemetry->azure-ai-ml) (1.2.18)\nCollecting opentelemetry-api>=1.12.0 (from azure-core-tracing-opentelemetry~=1.0.0b11->azure-monitor-opentelemetry->azure-ai-ml)\n  Downloading opentelemetry_api-1.31.1-py3-none-any.whl.metadata (1.6 kB)\nCollecting importlib-metadata<8.7.0,>=6.0 (from opentelemetry-api>=1.12.0->azure-core-tracing-opentelemetry~=1.0.0b11->azure-monitor-opentelemetry->azure-ai-ml)\n  Downloading importlib_metadata-8.6.1-py3-none-any.whl.metadata (4.7 kB)\nRequirement already satisfied: opentelemetry-instrumentation-asgi==0.52b1 in /anaconda/envs/azureml_py310_sdkv2/lib/python3.10/site-packages (from opentelemetry-instrumentation-fastapi<0.53b0,>=0.49b0->azure-monitor-opentelemetry->azure-ai-ml) (0.52b1)\nRequirement already satisfied: asgiref~=3.0 in /anaconda/envs/azureml_py310_sdkv2/lib/python3.10/site-packages (from opentelemetry-instrumentation-asgi==0.52b1->opentelemetry-instrumentation-fastapi<0.53b0,>=0.49b0->azure-monitor-opentelemetry->azure-ai-ml) (3.9.1)\nRequirement already satisfied: opentelemetry-instrumentation-dbapi==0.52b1 in /anaconda/envs/azureml_py310_sdkv2/lib/python3.10/site-packages (from opentelemetry-instrumentation-psycopg2<0.53b0,>=0.49b0->azure-monitor-opentelemetry->azure-ai-ml) (0.52b1)\nRequirement already satisfied: MarkupSafe>=2.0 in /anaconda/envs/azureml_py310_sdkv2/lib/python3.10/site-packages (from jinja2->torch) (3.0.2)\nUsing cached azure_identity-1.24.0-py3-none-any.whl (187 kB)\nDownloading pandas-2.3.2-cp310-cp310-manylinux_2_17_x86_64.manylinux2014_x86_64.whl (12.3 MB)\n\u001b[2K   \u001b[90m━━━━━━━━━━━━━━━━━━━━━━━━━━━━━━━━━━━━━━━━\u001b[0m \u001b[32m12.3/12.3 MB\u001b[0m \u001b[31m21.0 MB/s\u001b[0m eta \u001b[36m0:00:00\u001b[0m00:01\u001b[0m0:01\u001b[0m\n\u001b[?25hDownloading numpy-2.2.6-cp310-cp310-manylinux_2_17_x86_64.manylinux2014_x86_64.whl (16.8 MB)\n\u001b[2K   \u001b[90m━━━━━━━━━━━━━━━━━━━━━━━━━━━━━━━━━━━━━━━━\u001b[0m \u001b[32m16.8/16.8 MB\u001b[0m \u001b[31m24.2 MB/s\u001b[0m eta \u001b[36m0:00:00\u001b[0m00:01\u001b[0m00:01\u001b[0m\n\u001b[?25hDownloading torch-2.8.0-cp310-cp310-manylinux_2_28_x86_64.whl (888.0 MB)\n\u001b[2K   \u001b[90m━━━━━━━━━━━━━━━━━━━━━━━━━━━━━━━━━━━━━━━━\u001b[0m \u001b[32m888.0/888.0 MB\u001b[0m \u001b[31m12.0 MB/s\u001b[0m eta \u001b[36m0:00:00\u001b[0m00:01\u001b[0m00:01\u001b[0m\n\u001b[?25hDownloading nvidia_cublas_cu12-12.8.4.1-py3-none-manylinux_2_27_x86_64.whl (594.3 MB)\n\u001b[2K   \u001b[90m━━━━━━━━━━━━━━━━━━━━━━━━━━━━━━━━━━━━━━━━\u001b[0m \u001b[32m594.3/594.3 MB\u001b[0m \u001b[31m18.4 MB/s\u001b[0m eta \u001b[36m0:00:00\u001b[0m00:01\u001b[0m00:01\u001b[0m\n\u001b[?25hDownloading nvidia_cuda_cupti_cu12-12.8.90-py3-none-manylinux2014_x86_64.manylinux_2_17_x86_64.whl (10.2 MB)\n\u001b[2K   \u001b[90m━━━━━━━━━━━━━━━━━━━━━━━━━━━━━━━━━━━━━━━━\u001b[0m \u001b[32m10.2/10.2 MB\u001b[0m \u001b[31m26.3 MB/s\u001b[0m eta \u001b[36m0:00:00\u001b[0m00:01\u001b[0m\n\u001b[?25hDownloading nvidia_cuda_nvrtc_cu12-12.8.93-py3-none-manylinux2010_x86_64.manylinux_2_12_x86_64.whl (88.0 MB)\n\u001b[2K   \u001b[90m━━━━━━━━━━━━━━━━━━━━━━━━━━━━━━━━━━━━━━━━\u001b[0m \u001b[32m88.0/88.0 MB\u001b[0m \u001b[31m25.3 MB/s\u001b[0m eta \u001b[36m0:00:00\u001b[0m00:01\u001b[0m00:01\u001b[0m\n\u001b[?25hDownloading nvidia_cuda_runtime_cu12-12.8.90-py3-none-manylinux2014_x86_64.manylinux_2_17_x86_64.whl (954 kB)\n\u001b[2K   \u001b[90m━━━━━━━━━━━━━━━━━━━━━━━━━━━━━━━━━━━━━━━━\u001b[0m \u001b[32m954.8/954.8 kB\u001b[0m \u001b[31m8.3 MB/s\u001b[0m eta \u001b[36m0:00:00\u001b[0m\n\u001b[?25hDownloading nvidia_cudnn_cu12-9.10.2.21-py3-none-manylinux_2_27_x86_64.whl (706.8 MB)\n\u001b[2K   \u001b[90m━━━━━━━━━━━━━━━━━━━━━━━━━━━━━━━━━━━━━━━━\u001b[0m \u001b[32m706.8/706.8 MB\u001b[0m \u001b[31m18.0 MB/s\u001b[0m eta \u001b[36m0:00:00\u001b[0m00:01\u001b[0m00:01\u001b[0m\n\u001b[?25hDownloading nvidia_cufft_cu12-11.3.3.83-py3-none-manylinux2014_x86_64.manylinux_2_17_x86_64.whl (193.1 MB)\n\u001b[2K   \u001b[90m━━━━━━━━━━━━━━━━━━━━━━━━━━━━━━━━━━━━━━━━\u001b[0m \u001b[32m193.1/193.1 MB\u001b[0m \u001b[31m25.8 MB/s\u001b[0m eta \u001b[36m0:00:00\u001b[0m00:01\u001b[0m00:01\u001b[0m\n\u001b[?25hDownloading nvidia_cufile_cu12-1.13.1.3-py3-none-manylinux2014_x86_64.manylinux_2_17_x86_64.whl (1.2 MB)\n\u001b[2K   \u001b[90m━━━━━━━━━━━━━━━━━━━━━━━━━━━━━━━━━━━━━━━━\u001b[0m \u001b[32m1.2/1.2 MB\u001b[0m \u001b[31m14.5 MB/s\u001b[0m eta \u001b[36m0:00:00\u001b[0m\n\u001b[?25hDownloading nvidia_curand_cu12-10.3.9.90-py3-none-manylinux_2_27_x86_64.whl (63.6 MB)\n\u001b[2K   \u001b[90m━━━━━━━━━━━━━━━━━━━━━━━━━━━━━━━━━━━━━━━━\u001b[0m \u001b[32m63.6/63.6 MB\u001b[0m \u001b[31m24.2 MB/s\u001b[0m eta \u001b[36m0:00:00\u001b[0m00:01\u001b[0m00:01\u001b[0m\n\u001b[?25hDownloading nvidia_cusolver_cu12-11.7.3.90-py3-none-manylinux_2_27_x86_64.whl (267.5 MB)\n\u001b[2K   \u001b[90m━━━━━━━━━━━━━━━━━━━━━━━━━━━━━━━━━━━━━━━━\u001b[0m \u001b[32m267.5/267.5 MB\u001b[0m \u001b[31m26.8 MB/s\u001b[0m eta \u001b[36m0:00:00\u001b[0m00:01\u001b[0m00:01\u001b[0m\n\u001b[?25hDownloading nvidia_cusparse_cu12-12.5.8.93-py3-none-manylinux2014_x86_64.manylinux_2_17_x86_64.whl (288.2 MB)\n\u001b[2K   \u001b[90m━━━━━━━━━━━━━━━━━━━━━━━━━━━━━━━━━━━━━━━━\u001b[0m \u001b[32m288.2/288.2 MB\u001b[0m \u001b[31m26.5 MB/s\u001b[0m eta \u001b[36m0:00:00\u001b[0m00:01\u001b[0m00:01\u001b[0m\n\u001b[?25hDownloading nvidia_cusparselt_cu12-0.7.1-py3-none-manylinux2014_x86_64.whl (287.2 MB)\n\u001b[2K   \u001b[90m━━━━━━━━━━━━━━━━━━━━━━━━━━━━━━━━━━━━━━━━\u001b[0m \u001b[32m287.2/287.2 MB\u001b[0m \u001b[31m26.0 MB/s\u001b[0m eta \u001b[36m0:00:00\u001b[0m00:01\u001b[0m00:01\u001b[0m\n\u001b[?25hDownloading nvidia_nccl_cu12-2.27.3-py3-none-manylinux2014_x86_64.manylinux_2_17_x86_64.whl (322.4 MB)\n\u001b[2K   \u001b[90m━━━━━━━━━━━━━━━━━━━━━━━━━━━━━━━━━━━━━━━━\u001b[0m \u001b[32m322.4/322.4 MB\u001b[0m \u001b[31m25.2 MB/s\u001b[0m eta \u001b[36m0:00:00\u001b[0m00:01\u001b[0m00:01\u001b[0m\n\u001b[?25hDownloading nvidia_nvjitlink_cu12-12.8.93-py3-none-manylinux2010_x86_64.manylinux_2_12_x86_64.whl (39.3 MB)\n\u001b[2K   \u001b[90m━━━━━━━━━━━━━━━━━━━━━━━━━━━━━━━━━━━━━━━━\u001b[0m \u001b[32m39.3/39.3 MB\u001b[0m \u001b[31m29.0 MB/s\u001b[0m eta \u001b[36m0:00:00\u001b[0m00:01\u001b[0m00:01\u001b[0m\n\u001b[?25hDownloading nvidia_nvtx_cu12-12.8.90-py3-none-manylinux2014_x86_64.manylinux_2_17_x86_64.whl (89 kB)\nDownloading triton-3.4.0-cp310-cp310-manylinux_2_27_x86_64.manylinux_2_28_x86_64.whl (155.4 MB)\n\u001b[2K   \u001b[90m━━━━━━━━━━━━━━━━━━━━━━━━━━━━━━━━━━━━━━━━\u001b[0m \u001b[32m155.4/155.4 MB\u001b[0m \u001b[31m25.5 MB/s\u001b[0m eta \u001b[36m0:00:00\u001b[0m00:01\u001b[0m00:01\u001b[0m\n\u001b[?25hDownloading sympy-1.14.0-py3-none-any.whl (6.3 MB)\n\u001b[2K   \u001b[90m━━━━━━━━━━━━━━━━━━━━━━━━━━━━━━━━━━━━━━━━\u001b[0m \u001b[32m6.3/6.3 MB\u001b[0m \u001b[31m33.8 MB/s\u001b[0m eta \u001b[36m0:00:00\u001b[0m\n\u001b[?25hDownloading mpmath-1.3.0-py3-none-any.whl (536 kB)\n\u001b[2K   \u001b[90m━━━━━━━━━━━━━━━━━━━━━━━━━━━━━━━━━━━━━━━━\u001b[0m \u001b[32m536.2/536.2 kB\u001b[0m \u001b[31m5.6 MB/s\u001b[0m eta \u001b[36m0:00:00\u001b[0m\n\u001b[?25hDownloading opentelemetry_api-1.31.1-py3-none-any.whl (65 kB)\nDownloading importlib_metadata-8.6.1-py3-none-any.whl (26 kB)\nInstalling collected packages: nvidia-cusparselt-cu12, mpmath, triton, sympy, nvidia-nvtx-cu12, nvidia-nvjitlink-cu12, nvidia-nccl-cu12, nvidia-curand-cu12, nvidia-cufile-cu12, nvidia-cuda-runtime-cu12, nvidia-cuda-nvrtc-cu12, nvidia-cuda-cupti-cu12, nvidia-cublas-cu12, numpy, importlib-metadata, pandas, opentelemetry-api, nvidia-cusparse-cu12, nvidia-cufft-cu12, nvidia-cudnn-cu12, nvidia-cusolver-cu12, torch, azure-identity\n\u001b[2K  Attempting uninstall: numpy[0m\u001b[91m╸\u001b[0m\u001b[90m━━━━━━━━━━━━━━━━━━━\u001b[0m \u001b[32m12/23\u001b[0m [nvidia-cublas-cu12]u12]2]\n\u001b[2K    Found existing installation: numpy 1.23.5━━━━━━━━━━━━━━━━━\u001b[0m \u001b[32m12/23\u001b[0m [nvidia-cublas-cu12]\n\u001b[2K    Uninstalling numpy-1.23.5:\u001b[0m\u001b[91m╸\u001b[0m\u001b[90m━━━━━━━━━━━━━━━━━\u001b[0m \u001b[32m13/23\u001b[0m [numpy]las-cu12]\n\u001b[2K      Successfully uninstalled numpy-1.23.5m\u001b[90m━━━━━━━━━━━━━━━━━\u001b[0m \u001b[32m13/23\u001b[0m [numpy]\n\u001b[2K  Attempting uninstall: importlib-metadata0m\u001b[90m━━━━━━━━━━━━━━━━━\u001b[0m \u001b[32m13/23\u001b[0m [numpy]\n\u001b[2K    Found existing installation: importlib_metadata 8.7.0━━━━━\u001b[0m \u001b[32m13/23\u001b[0m [numpy]\n\u001b[2K    Uninstalling importlib_metadata-8.7.0:\u001b[0m\u001b[90m━━━━━━━━━━━━━━━\u001b[0m \u001b[32m14/23\u001b[0m [importlib-metadata]\n\u001b[2K      Successfully uninstalled importlib_metadata-8.7.0━━━━━━━\u001b[0m \u001b[32m14/23\u001b[0m [importlib-metadata]\n\u001b[2K  Attempting uninstall: pandas━━\u001b[0m\u001b[90m╺\u001b[0m\u001b[90m━━━━━━━━━━━━━━━\u001b[0m \u001b[32m14/23\u001b[0m [importlib-metadata]\n\u001b[2K    Found existing installation: pandas 1.5.30m━━━━━━━━━━━━━━━\u001b[0m \u001b[32m14/23\u001b[0m [importlib-metadata]\n\u001b[2K    Uninstalling pandas-1.5.3:━━━━\u001b[0m\u001b[90m╺\u001b[0m\u001b[90m━━━━━━━━━━━━━\u001b[0m \u001b[32m15/23\u001b[0m [pandas]etadata]\n\u001b[2K      Successfully uninstalled pandas-1.5.3m\u001b[90m━━━━━━━━━━━━━\u001b[0m \u001b[32m15/23\u001b[0m [pandas]\n\u001b[2K  Attempting uninstall: opentelemetry-api0m╺\u001b[0m\u001b[90m━━━━━━━━━━━━━\u001b[0m \u001b[32m15/23\u001b[0m [pandas]\n\u001b[2K    Found existing installation: opentelemetry-api 1.35.0━━━━━\u001b[0m \u001b[32m15/23\u001b[0m [pandas]\n\u001b[2K    Uninstalling opentelemetry-api-1.35.0:1m╸\u001b[0m\u001b[90m━━━━━━━━━━━━\u001b[0m \u001b[32m16/23\u001b[0m [opentelemetry-api]\n\u001b[2K      Successfully uninstalled opentelemetry-api-1.35.0━━━━━━━━━━━\u001b[0m \u001b[32m16/23\u001b[0m [opentelemetry-api]\n\u001b[2K  Attempting uninstall: azure-identity━━━━━━\u001b[0m\u001b[91m╸\u001b[0m\u001b[90m━━━\u001b[0m \u001b[32m21/23\u001b[0m [torch]-cusolver-cu12]\n\u001b[2K    Found existing installation: azure-identity 1.23.0\u001b[90m━━━\u001b[0m \u001b[32m21/23\u001b[0m [torch]\n\u001b[2K    Uninstalling azure-identity-1.23.0:━━━━━━━\u001b[0m\u001b[90m╺\u001b[0m\u001b[90m━\u001b[0m \u001b[32m22/23\u001b[0m [azure-identity]\n\u001b[2K      Successfully uninstalled azure-identity-1.23.090m╺\u001b[0m\u001b[90m━\u001b[0m \u001b[32m22/23\u001b[0m [azure-identity]\n\u001b[2K   \u001b[90m━━━━━━━━━━━━━━━━━━━━━━━━━━━━━━━━━━━━━━━━\u001b[0m \u001b[32m23/23\u001b[0m [azure-identity]m [azure-identity]\n\u001b[1A\u001b[2K\u001b[31mERROR: pip's dependency resolver does not currently take into account all the packages that are installed. This behaviour is the source of the following dependency conflicts.\nazureml-mlflow 1.60.0.post1 requires azure-storage-blob<=12.19.0,>=12.5.0, but you have azure-storage-blob 12.25.1 which is incompatible.\nmlflow 3.1.1 requires mlflow-skinny==3.1.1, but you have mlflow-skinny 2.22.1 which is incompatible.\nmlflow-skinny 2.22.1 requires packaging<25, but you have packaging 25.0 which is incompatible.\u001b[0m\u001b[31m\n\u001b[0mSuccessfully installed azure-identity-1.24.0 importlib-metadata-8.6.1 mpmath-1.3.0 numpy-2.2.6 nvidia-cublas-cu12-12.8.4.1 nvidia-cuda-cupti-cu12-12.8.90 nvidia-cuda-nvrtc-cu12-12.8.93 nvidia-cuda-runtime-cu12-12.8.90 nvidia-cudnn-cu12-9.10.2.21 nvidia-cufft-cu12-11.3.3.83 nvidia-cufile-cu12-1.13.1.3 nvidia-curand-cu12-10.3.9.90 nvidia-cusolver-cu12-11.7.3.90 nvidia-cusparse-cu12-12.5.8.93 nvidia-cusparselt-cu12-0.7.1 nvidia-nccl-cu12-2.27.3 nvidia-nvjitlink-cu12-12.8.93 nvidia-nvtx-cu12-12.8.90 opentelemetry-api-1.31.1 pandas-2.3.2 sympy-1.14.0 torch-2.8.0 triton-3.4.0\n\n\u001b[1m[\u001b[0m\u001b[34;49mnotice\u001b[0m\u001b[1;39;49m]\u001b[0m\u001b[39;49m A new release of pip is available: \u001b[0m\u001b[31;49m25.1.1\u001b[0m\u001b[39;49m -> \u001b[0m\u001b[32;49m25.2\u001b[0m\n\u001b[1m[\u001b[0m\u001b[34;49mnotice\u001b[0m\u001b[1;39;49m]\u001b[0m\u001b[39;49m To update, run: \u001b[0m\u001b[32;49m/anaconda/envs/azureml_py310_sdkv2/bin/python -m pip install --upgrade pip\u001b[0m\n"
        }
      ],
      "execution_count": 1,
      "metadata": {
        "gather": {
          "logged": 1756541417374
        }
      }
    },
    {
      "cell_type": "raw",
      "source": [
        "import sys\n",
        "!{sys.executable} -m pip install --upgrade azure-ai-ml azure-identity"
      ],
      "metadata": {
        "gather": {
          "logged": 1756482134128
        }
      }
    },
    {
      "cell_type": "code",
      "source": [
        "from azure.ai.ml import MLClient\n",
        "from azure.ai.ml.entities import Model, ManagedOnlineEndpoint, ManagedOnlineDeployment, Environment\n",
        "from azure.identity import DefaultAzureCredential\n",
        "\n",
        "ml_client = MLClient.from_config(credential=DefaultAzureCredential())\n"
      ],
      "outputs": [
        {
          "output_type": "stream",
          "name": "stderr",
          "text": "Found the config file in: ./config.json\nOverriding of current TracerProvider is not allowed\nOverriding of current LoggerProvider is not allowed\nOverriding of current MeterProvider is not allowed\nAttempting to instrument while already instrumented\nAttempting to instrument while already instrumented\nAttempting to instrument while already instrumented\nAttempting to instrument while already instrumented\nAttempting to instrument while already instrumented\n"
        }
      ],
      "execution_count": 19,
      "metadata": {
        "gather": {
          "logged": 1756593541279
        }
      }
    },
    {
      "cell_type": "code",
      "source": [
        "model = Model(\n",
        "    path=\"model\",  # your .pth file\n",
        "    name=\"loan_ann_model\",\n",
        "    description=\"ANN model for loan default prediction\",\n",
        "    type=\"custom_model\",  # <-- NOT mlflow_model\n",
        ")\n",
        "\n",
        "registered_model = ml_client.models.create_or_update(model)\n",
        "print(\"Registered model:\", registered_model.name, registered_model.version)"
      ],
      "outputs": [
        {
          "output_type": "stream",
          "name": "stderr",
          "text": "\r\u001b[32mUploading model (0.05 MBs):   0%|          | 0/52166 [00:00<?, ?it/s]\r\u001b[32mUploading model (0.05 MBs): 100%|██████████| 52166/52166 [00:00<00:00, 1671339.46it/s]\n\u001b[39m\n\n"
        },
        {
          "output_type": "stream",
          "name": "stdout",
          "text": "Registered model: loan_ann_model 1\n"
        }
      ],
      "execution_count": 3,
      "metadata": {
        "gather": {
          "logged": 1756541474630
        }
      }
    },
    {
      "cell_type": "code",
      "source": [
        "%%writefile conda_env.yml\n",
        "\n",
        "name: pytorch-env\n",
        "channels:\n",
        "  - defaults\n",
        "dependencies:\n",
        "  - python=3.10\n",
        "  - pip\n",
        "  - pip:\n",
        "      - torch\n",
        "      - scikit-learn\n",
        "      - joblib\n",
        "      - pandas\n",
        "      - numpy\n",
        "      - azureml-defaults\n",
        "      - azureml-inference-server-http"
      ],
      "outputs": [
        {
          "output_type": "stream",
          "name": "stdout",
          "text": "Writing conda_env.yml\n"
        }
      ],
      "execution_count": 4,
      "metadata": {}
    },
    {
      "cell_type": "code",
      "source": [
        "env = Environment(\n",
        "    name=\"pytorch-env\",\n",
        "    version=\"4\",\n",
        "    description=\"PyTorch + dependencies\",\n",
        "    image=\"mcr.microsoft.com/azureml/openmpi4.1.0-ubuntu20.04:latest\",\n",
        "    conda_file=\"conda_env.yml\"  # create a YAML with torch, scikit-learn, joblib\n",
        ")\n",
        "ml_client.environments.create_or_update(env)"
      ],
      "outputs": [
        {
          "output_type": "execute_result",
          "execution_count": 5,
          "data": {
            "text/plain": "Environment({'arm_type': 'environment_version', 'latest_version': None, 'image': 'mcr.microsoft.com/azureml/openmpi4.1.0-ubuntu20.04:latest', 'intellectual_property': None, 'is_anonymous': False, 'auto_increment_version': False, 'auto_delete_setting': None, 'name': 'pytorch-env', 'description': 'PyTorch + dependencies', 'tags': {}, 'properties': {'azureml.labels': 'latest'}, 'print_as_yaml': False, 'id': '/subscriptions/ef6f0ccd-be4a-4f41-8c9f-abc3cf22df34/resourceGroups/mlrg-second/providers/Microsoft.MachineLearningServices/workspaces/ws-uk-ml/environments/pytorch-env/versions/4', 'Resource__source_path': '', 'base_path': '/mnt/batch/tasks/shared/LS_root/mounts/clusters/flyhighpraveen03101/code/Users/flyhighpraveen0310', 'creation_context': <azure.ai.ml.entities._system_data.SystemData object at 0x7dfee23b73a0>, 'serialize': <msrest.serialization.Serializer object at 0x7dfee23b73d0>, 'version': '4', 'conda_file': {'channels': ['defaults'], 'dependencies': ['python=3.10', 'pip', {'pip': ['torch', 'scikit-learn', 'joblib', 'pandas', 'numpy', 'azureml-defaults', 'azureml-inference-server-http']}], 'name': 'pytorch-env'}, 'build': None, 'inference_config': None, 'os_type': 'Linux', 'conda_file_path': None, 'path': None, 'datastore': None, 'upload_hash': None, 'translated_conda_file': '{\\n  \"channels\": [\\n    \"defaults\"\\n  ],\\n  \"dependencies\": [\\n    \"python=3.10\",\\n    \"pip\",\\n    {\\n      \"pip\": [\\n        \"torch\",\\n        \"scikit-learn\",\\n        \"joblib\",\\n        \"pandas\",\\n        \"numpy\",\\n        \"azureml-defaults\",\\n        \"azureml-inference-server-http\"\\n      ]\\n    }\\n  ],\\n  \"name\": \"pytorch-env\"\\n}'})"
          },
          "metadata": {}
        }
      ],
      "execution_count": 5,
      "metadata": {
        "gather": {
          "logged": 1756541541031
        }
      }
    },
    {
      "cell_type": "code",
      "source": [
        "endpoint_name = \"loan-ann-endpoint\"\n",
        "endpoint = ManagedOnlineEndpoint(\n",
        "    name=endpoint_name,\n",
        "    auth_mode=\"key\"\n",
        ")\n",
        "ml_client.online_endpoints.begin_create_or_update(endpoint).result()"
      ],
      "outputs": [
        {
          "output_type": "stream",
          "name": "stderr",
          "text": "/anaconda/envs/azureml_py310_sdkv2/lib/python3.10/site-packages/mlflow/__init__.py:41: UserWarning: Versions of mlflow (3.1.1) and mlflow-skinny (2.22.1) are different. This may lead to unexpected behavior. Please install the same version of both packages.\n  mlflow.mismatch._check_version_mismatch()\n"
        },
        {
          "output_type": "execute_result",
          "execution_count": 8,
          "data": {
            "text/plain": "ManagedOnlineEndpoint({'public_network_access': 'Enabled', 'provisioning_state': 'Succeeded', 'scoring_uri': 'https://loan-ann-endpoint.ukwest.inference.ml.azure.com/score', 'openapi_uri': 'https://loan-ann-endpoint.ukwest.inference.ml.azure.com/swagger.json', 'name': 'loan-ann-endpoint', 'description': None, 'tags': {}, 'properties': {'createdBy': 'Praveenkumar Palaniappan', 'createdAt': '2025-08-30T08:16:32.413529+0000', 'lastModifiedAt': '2025-08-30T08:16:32.413529+0000', 'azureml.onlineendpointid': '/subscriptions/ef6f0ccd-be4a-4f41-8c9f-abc3cf22df34/resourcegroups/mlrg-second/providers/microsoft.machinelearningservices/workspaces/ws-uk-ml/onlineendpoints/loan-ann-endpoint', 'AzureAsyncOperationUri': 'https://management.azure.com/subscriptions/ef6f0ccd-be4a-4f41-8c9f-abc3cf22df34/providers/Microsoft.MachineLearningServices/locations/ukwest/mfeOperationsStatus/oeidp:0c8abcec-cb75-416c-bd29-0fa02e3118bd:4ba120db-8146-4f14-9194-72492f517d89?api-version=2022-02-01-preview'}, 'print_as_yaml': False, 'id': '/subscriptions/ef6f0ccd-be4a-4f41-8c9f-abc3cf22df34/resourceGroups/mlrg-second/providers/Microsoft.MachineLearningServices/workspaces/ws-uk-ml/onlineEndpoints/loan-ann-endpoint', 'Resource__source_path': '', 'base_path': '/mnt/batch/tasks/shared/LS_root/mounts/clusters/flyhighpraveen03101/code/Users/flyhighpraveen0310', 'creation_context': None, 'serialize': <msrest.serialization.Serializer object at 0x7dfee005ec20>, 'auth_mode': 'key', 'location': 'ukwest', 'identity': <azure.ai.ml.entities._credentials.IdentityConfiguration object at 0x7dfee232ffa0>, 'traffic': {}, 'mirror_traffic': {}, 'kind': 'Managed'})"
          },
          "metadata": {}
        }
      ],
      "execution_count": 8,
      "metadata": {
        "gather": {
          "logged": 1756541917092
        }
      }
    },
    {
      "cell_type": "code",
      "source": [
        "from azure.ai.ml.entities import CodeConfiguration\n",
        "\n",
        "registered_model = ml_client.models.get(name=\"loan_ann_model\", label=\"latest\")\n",
        "\n",
        "deployment = ManagedOnlineDeployment(\n",
        "    name=\"loan-fifth-ann-deployment\",\n",
        "    endpoint_name=\"loan-ann-endpoint\",\n",
        "    model=registered_model.id,\n",
        "    environment=\"pytorch-env:4\",\n",
        "    code_configuration=CodeConfiguration(\n",
        "        code=\"./code\",              # folder containing scoring script\n",
        "        scoring_script=\"score.py\"         # scoring script filename\n",
        "    ),\n",
        "    instance_type=\"STANDARD_D2AS_V4\",\n",
        "    instance_count=1\n",
        ")\n",
        "\n",
        "poller = ml_client.online_deployments.begin_create_or_update(deployment)\n",
        "print(\"Deployment started. Polling status...\")\n",
        "status = poller.status()\n",
        "print(status)"
      ],
      "outputs": [
        {
          "output_type": "stream",
          "name": "stderr",
          "text": "Check: endpoint loan-ann-endpoint exists\n\u001b[32mUploading code (0.0 MBs): 100%|██████████| 3348/3348 [00:01<00:00, 2884.77it/s]\n\u001b[39m\n\n"
        },
        {
          "output_type": "stream",
          "name": "stdout",
          "text": "Deployment started. Polling status...\nInProgress\n................................................................................................."
        }
      ],
      "execution_count": 20,
      "metadata": {
        "gather": {
          "logged": 1756593579791
        }
      }
    },
    {
      "cell_type": "code",
      "source": [
        "status = poller.status()\n",
        "print(status)"
      ],
      "outputs": [
        {
          "output_type": "stream",
          "name": "stdout",
          "text": "Updating\n"
        }
      ],
      "execution_count": 13,
      "metadata": {
        "gather": {
          "logged": 1756582533020
        }
      }
    },
    {
      "cell_type": "code",
      "source": [
        "ml_client.online_deployments.begin_delete(\n",
        "    name=\"loan-third-ann-deployment\",   # or \"default\" depending on what you used\n",
        "    endpoint_name=\"loan-ann-endpoint\"\n",
        ").result()"
      ],
      "outputs": [],
      "execution_count": 17,
      "metadata": {
        "gather": {
          "logged": 1756584452050
        }
      }
    },
    {
      "cell_type": "code",
      "source": [],
      "outputs": [],
      "execution_count": null,
      "metadata": {}
    }
  ],
  "metadata": {
    "kernel_info": {
      "name": "python310-sdkv2"
    },
    "kernelspec": {
      "name": "python310-sdkv2",
      "language": "python",
      "display_name": "Python 3.10 - SDK v2"
    },
    "language_info": {
      "name": "python",
      "version": "3.10.18",
      "mimetype": "text/x-python",
      "codemirror_mode": {
        "name": "ipython",
        "version": 3
      },
      "pygments_lexer": "ipython3",
      "nbconvert_exporter": "python",
      "file_extension": ".py"
    },
    "microsoft": {
      "host": {
        "AzureML": {
          "notebookHasBeenCompleted": true
        }
      },
      "ms_spell_check": {
        "ms_spell_check_language": "en"
      }
    },
    "nteract": {
      "version": "nteract-front-end@1.0.0"
    }
  },
  "nbformat": 4,
  "nbformat_minor": 4
}